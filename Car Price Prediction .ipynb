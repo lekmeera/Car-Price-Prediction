{
 "cells": [
  {
   "cell_type": "markdown",
   "metadata": {},
   "source": [
    "#### Car Price Prediction "
   ]
  },
  {
   "cell_type": "code",
   "execution_count": 1,
   "metadata": {},
   "outputs": [],
   "source": [
    "import pandas as pd\n",
    "import numpy as np\n",
    "import matplotlib.pyplot as plt"
   ]
  },
  {
   "cell_type": "code",
   "execution_count": 2,
   "metadata": {},
   "outputs": [],
   "source": [
    "car_price = pd.read_csv(\"Car price prediction.csv\")"
   ]
  },
  {
   "cell_type": "code",
   "execution_count": 3,
   "metadata": {
    "scrolled": true
   },
   "outputs": [
    {
     "data": {
      "text/html": [
       "<div>\n",
       "<style scoped>\n",
       "    .dataframe tbody tr th:only-of-type {\n",
       "        vertical-align: middle;\n",
       "    }\n",
       "\n",
       "    .dataframe tbody tr th {\n",
       "        vertical-align: top;\n",
       "    }\n",
       "\n",
       "    .dataframe thead th {\n",
       "        text-align: right;\n",
       "    }\n",
       "</style>\n",
       "<table border=\"1\" class=\"dataframe\">\n",
       "  <thead>\n",
       "    <tr style=\"text-align: right;\">\n",
       "      <th></th>\n",
       "      <th>Brand</th>\n",
       "      <th>Price</th>\n",
       "      <th>Body</th>\n",
       "      <th>Mileage</th>\n",
       "      <th>EngineV</th>\n",
       "      <th>Engine Type</th>\n",
       "      <th>Registration</th>\n",
       "      <th>Year</th>\n",
       "      <th>Model</th>\n",
       "    </tr>\n",
       "  </thead>\n",
       "  <tbody>\n",
       "    <tr>\n",
       "      <td>0</td>\n",
       "      <td>BMW</td>\n",
       "      <td>4200.0</td>\n",
       "      <td>sedan</td>\n",
       "      <td>277</td>\n",
       "      <td>2.0</td>\n",
       "      <td>Petrol</td>\n",
       "      <td>yes</td>\n",
       "      <td>1991</td>\n",
       "      <td>320</td>\n",
       "    </tr>\n",
       "    <tr>\n",
       "      <td>1</td>\n",
       "      <td>Mercedes-Benz</td>\n",
       "      <td>7900.0</td>\n",
       "      <td>van</td>\n",
       "      <td>427</td>\n",
       "      <td>2.9</td>\n",
       "      <td>Diesel</td>\n",
       "      <td>yes</td>\n",
       "      <td>1999</td>\n",
       "      <td>Sprinter 212</td>\n",
       "    </tr>\n",
       "    <tr>\n",
       "      <td>2</td>\n",
       "      <td>Mercedes-Benz</td>\n",
       "      <td>13300.0</td>\n",
       "      <td>sedan</td>\n",
       "      <td>358</td>\n",
       "      <td>5.0</td>\n",
       "      <td>Gas</td>\n",
       "      <td>yes</td>\n",
       "      <td>2003</td>\n",
       "      <td>S 500</td>\n",
       "    </tr>\n",
       "    <tr>\n",
       "      <td>3</td>\n",
       "      <td>Audi</td>\n",
       "      <td>23000.0</td>\n",
       "      <td>crossover</td>\n",
       "      <td>240</td>\n",
       "      <td>4.2</td>\n",
       "      <td>Petrol</td>\n",
       "      <td>yes</td>\n",
       "      <td>2007</td>\n",
       "      <td>Q7</td>\n",
       "    </tr>\n",
       "    <tr>\n",
       "      <td>4</td>\n",
       "      <td>Toyota</td>\n",
       "      <td>18300.0</td>\n",
       "      <td>crossover</td>\n",
       "      <td>120</td>\n",
       "      <td>2.0</td>\n",
       "      <td>Petrol</td>\n",
       "      <td>yes</td>\n",
       "      <td>2011</td>\n",
       "      <td>Rav 4</td>\n",
       "    </tr>\n",
       "    <tr>\n",
       "      <td>...</td>\n",
       "      <td>...</td>\n",
       "      <td>...</td>\n",
       "      <td>...</td>\n",
       "      <td>...</td>\n",
       "      <td>...</td>\n",
       "      <td>...</td>\n",
       "      <td>...</td>\n",
       "      <td>...</td>\n",
       "      <td>...</td>\n",
       "    </tr>\n",
       "    <tr>\n",
       "      <td>4340</td>\n",
       "      <td>Mercedes-Benz</td>\n",
       "      <td>125000.0</td>\n",
       "      <td>sedan</td>\n",
       "      <td>9</td>\n",
       "      <td>3.0</td>\n",
       "      <td>Diesel</td>\n",
       "      <td>yes</td>\n",
       "      <td>2014</td>\n",
       "      <td>S 350</td>\n",
       "    </tr>\n",
       "    <tr>\n",
       "      <td>4341</td>\n",
       "      <td>BMW</td>\n",
       "      <td>6500.0</td>\n",
       "      <td>sedan</td>\n",
       "      <td>1</td>\n",
       "      <td>3.5</td>\n",
       "      <td>Petrol</td>\n",
       "      <td>yes</td>\n",
       "      <td>1999</td>\n",
       "      <td>535</td>\n",
       "    </tr>\n",
       "    <tr>\n",
       "      <td>4342</td>\n",
       "      <td>BMW</td>\n",
       "      <td>8000.0</td>\n",
       "      <td>sedan</td>\n",
       "      <td>194</td>\n",
       "      <td>2.0</td>\n",
       "      <td>Petrol</td>\n",
       "      <td>yes</td>\n",
       "      <td>1985</td>\n",
       "      <td>520</td>\n",
       "    </tr>\n",
       "    <tr>\n",
       "      <td>4343</td>\n",
       "      <td>Toyota</td>\n",
       "      <td>14200.0</td>\n",
       "      <td>sedan</td>\n",
       "      <td>31</td>\n",
       "      <td>NaN</td>\n",
       "      <td>Petrol</td>\n",
       "      <td>yes</td>\n",
       "      <td>2014</td>\n",
       "      <td>Corolla</td>\n",
       "    </tr>\n",
       "    <tr>\n",
       "      <td>4344</td>\n",
       "      <td>Volkswagen</td>\n",
       "      <td>13500.0</td>\n",
       "      <td>van</td>\n",
       "      <td>124</td>\n",
       "      <td>2.0</td>\n",
       "      <td>Diesel</td>\n",
       "      <td>yes</td>\n",
       "      <td>2013</td>\n",
       "      <td>T5 (Transporter)</td>\n",
       "    </tr>\n",
       "  </tbody>\n",
       "</table>\n",
       "<p>4345 rows × 9 columns</p>\n",
       "</div>"
      ],
      "text/plain": [
       "              Brand     Price       Body  Mileage  EngineV Engine Type  \\\n",
       "0               BMW    4200.0      sedan      277      2.0      Petrol   \n",
       "1     Mercedes-Benz    7900.0        van      427      2.9      Diesel   \n",
       "2     Mercedes-Benz   13300.0      sedan      358      5.0         Gas   \n",
       "3              Audi   23000.0  crossover      240      4.2      Petrol   \n",
       "4            Toyota   18300.0  crossover      120      2.0      Petrol   \n",
       "...             ...       ...        ...      ...      ...         ...   \n",
       "4340  Mercedes-Benz  125000.0      sedan        9      3.0      Diesel   \n",
       "4341            BMW    6500.0      sedan        1      3.5      Petrol   \n",
       "4342            BMW    8000.0      sedan      194      2.0      Petrol   \n",
       "4343         Toyota   14200.0      sedan       31      NaN      Petrol   \n",
       "4344     Volkswagen   13500.0        van      124      2.0      Diesel   \n",
       "\n",
       "     Registration  Year              Model  \n",
       "0             yes  1991                320  \n",
       "1             yes  1999       Sprinter 212  \n",
       "2             yes  2003              S 500  \n",
       "3             yes  2007                 Q7  \n",
       "4             yes  2011              Rav 4  \n",
       "...           ...   ...                ...  \n",
       "4340          yes  2014              S 350  \n",
       "4341          yes  1999                535  \n",
       "4342          yes  1985                520  \n",
       "4343          yes  2014            Corolla  \n",
       "4344          yes  2013  T5 (Transporter)   \n",
       "\n",
       "[4345 rows x 9 columns]"
      ]
     },
     "execution_count": 3,
     "metadata": {},
     "output_type": "execute_result"
    }
   ],
   "source": [
    "car_price"
   ]
  },
  {
   "cell_type": "code",
   "execution_count": 4,
   "metadata": {},
   "outputs": [],
   "source": [
    "car_price_prdt = car_price.copy()"
   ]
  },
  {
   "cell_type": "code",
   "execution_count": 5,
   "metadata": {},
   "outputs": [
    {
     "name": "stdout",
     "output_type": "stream",
     "text": [
      "\n",
      "Car Price Prediction Summary\n",
      "\n",
      "Columns: 9\n",
      "\n",
      "Rows: 4345\n",
      "\n",
      "Column Names:\n",
      " Index(['Brand', 'Price', 'Body', 'Mileage', 'EngineV', 'Engine Type',\n",
      "       'Registration', 'Year', 'Model'],\n",
      "      dtype='object')\n",
      "\n",
      "Number of null values\n",
      "\n",
      " Brand             0\n",
      "Price           172\n",
      "Body              0\n",
      "Mileage           0\n",
      "EngineV         150\n",
      "Engine Type       0\n",
      "Registration      0\n",
      "Year              0\n",
      "Model             0\n",
      "dtype: int64\n",
      "\n",
      "Unique values\n",
      "\n",
      " Brand             7\n",
      "Price           906\n",
      "Body              6\n",
      "Mileage         410\n",
      "EngineV          73\n",
      "Engine Type       4\n",
      "Registration      2\n",
      "Year             39\n",
      "Model           312\n",
      "dtype: int64\n"
     ]
    }
   ],
   "source": [
    "print(\"\\nCar Price Prediction Summary\\n\")\n",
    "print(\"Columns:\",car_price_prdt.shape[1])\n",
    "print(\"\\nRows:\",car_price_prdt.shape[0])\n",
    "print(\"\\nColumn Names:\\n\",car_price_prdt.columns)\n",
    "print(\"\\nNumber of null values\\n\\n\",car_price.isnull().sum())\n",
    "print(\"\\nUnique values\\n\\n\",car_price.nunique())"
   ]
  },
  {
   "cell_type": "code",
   "execution_count": 6,
   "metadata": {},
   "outputs": [
    {
     "data": {
      "text/html": [
       "<div>\n",
       "<style scoped>\n",
       "    .dataframe tbody tr th:only-of-type {\n",
       "        vertical-align: middle;\n",
       "    }\n",
       "\n",
       "    .dataframe tbody tr th {\n",
       "        vertical-align: top;\n",
       "    }\n",
       "\n",
       "    .dataframe thead th {\n",
       "        text-align: right;\n",
       "    }\n",
       "</style>\n",
       "<table border=\"1\" class=\"dataframe\">\n",
       "  <thead>\n",
       "    <tr style=\"text-align: right;\">\n",
       "      <th></th>\n",
       "      <th>Brand</th>\n",
       "      <th>Price</th>\n",
       "      <th>Body</th>\n",
       "      <th>Mileage</th>\n",
       "      <th>EngineV</th>\n",
       "      <th>Engine Type</th>\n",
       "      <th>Registration</th>\n",
       "      <th>Year</th>\n",
       "      <th>Model</th>\n",
       "    </tr>\n",
       "  </thead>\n",
       "  <tbody>\n",
       "    <tr>\n",
       "      <td>0</td>\n",
       "      <td>BMW</td>\n",
       "      <td>4200.0</td>\n",
       "      <td>sedan</td>\n",
       "      <td>277</td>\n",
       "      <td>2.0</td>\n",
       "      <td>Petrol</td>\n",
       "      <td>yes</td>\n",
       "      <td>1991</td>\n",
       "      <td>320</td>\n",
       "    </tr>\n",
       "    <tr>\n",
       "      <td>1</td>\n",
       "      <td>Mercedes-Benz</td>\n",
       "      <td>7900.0</td>\n",
       "      <td>van</td>\n",
       "      <td>427</td>\n",
       "      <td>2.9</td>\n",
       "      <td>Diesel</td>\n",
       "      <td>yes</td>\n",
       "      <td>1999</td>\n",
       "      <td>Sprinter 212</td>\n",
       "    </tr>\n",
       "    <tr>\n",
       "      <td>2</td>\n",
       "      <td>Mercedes-Benz</td>\n",
       "      <td>13300.0</td>\n",
       "      <td>sedan</td>\n",
       "      <td>358</td>\n",
       "      <td>5.0</td>\n",
       "      <td>Gas</td>\n",
       "      <td>yes</td>\n",
       "      <td>2003</td>\n",
       "      <td>S 500</td>\n",
       "    </tr>\n",
       "    <tr>\n",
       "      <td>3</td>\n",
       "      <td>Audi</td>\n",
       "      <td>23000.0</td>\n",
       "      <td>crossover</td>\n",
       "      <td>240</td>\n",
       "      <td>4.2</td>\n",
       "      <td>Petrol</td>\n",
       "      <td>yes</td>\n",
       "      <td>2007</td>\n",
       "      <td>Q7</td>\n",
       "    </tr>\n",
       "    <tr>\n",
       "      <td>4</td>\n",
       "      <td>Toyota</td>\n",
       "      <td>18300.0</td>\n",
       "      <td>crossover</td>\n",
       "      <td>120</td>\n",
       "      <td>2.0</td>\n",
       "      <td>Petrol</td>\n",
       "      <td>yes</td>\n",
       "      <td>2011</td>\n",
       "      <td>Rav 4</td>\n",
       "    </tr>\n",
       "    <tr>\n",
       "      <td>...</td>\n",
       "      <td>...</td>\n",
       "      <td>...</td>\n",
       "      <td>...</td>\n",
       "      <td>...</td>\n",
       "      <td>...</td>\n",
       "      <td>...</td>\n",
       "      <td>...</td>\n",
       "      <td>...</td>\n",
       "      <td>...</td>\n",
       "    </tr>\n",
       "    <tr>\n",
       "      <td>4339</td>\n",
       "      <td>Toyota</td>\n",
       "      <td>17900.0</td>\n",
       "      <td>sedan</td>\n",
       "      <td>35</td>\n",
       "      <td>1.6</td>\n",
       "      <td>Petrol</td>\n",
       "      <td>yes</td>\n",
       "      <td>2014</td>\n",
       "      <td>Corolla</td>\n",
       "    </tr>\n",
       "    <tr>\n",
       "      <td>4340</td>\n",
       "      <td>Mercedes-Benz</td>\n",
       "      <td>125000.0</td>\n",
       "      <td>sedan</td>\n",
       "      <td>9</td>\n",
       "      <td>3.0</td>\n",
       "      <td>Diesel</td>\n",
       "      <td>yes</td>\n",
       "      <td>2014</td>\n",
       "      <td>S 350</td>\n",
       "    </tr>\n",
       "    <tr>\n",
       "      <td>4341</td>\n",
       "      <td>BMW</td>\n",
       "      <td>6500.0</td>\n",
       "      <td>sedan</td>\n",
       "      <td>1</td>\n",
       "      <td>3.5</td>\n",
       "      <td>Petrol</td>\n",
       "      <td>yes</td>\n",
       "      <td>1999</td>\n",
       "      <td>535</td>\n",
       "    </tr>\n",
       "    <tr>\n",
       "      <td>4342</td>\n",
       "      <td>BMW</td>\n",
       "      <td>8000.0</td>\n",
       "      <td>sedan</td>\n",
       "      <td>194</td>\n",
       "      <td>2.0</td>\n",
       "      <td>Petrol</td>\n",
       "      <td>yes</td>\n",
       "      <td>1985</td>\n",
       "      <td>520</td>\n",
       "    </tr>\n",
       "    <tr>\n",
       "      <td>4344</td>\n",
       "      <td>Volkswagen</td>\n",
       "      <td>13500.0</td>\n",
       "      <td>van</td>\n",
       "      <td>124</td>\n",
       "      <td>2.0</td>\n",
       "      <td>Diesel</td>\n",
       "      <td>yes</td>\n",
       "      <td>2013</td>\n",
       "      <td>T5 (Transporter)</td>\n",
       "    </tr>\n",
       "  </tbody>\n",
       "</table>\n",
       "<p>4025 rows × 9 columns</p>\n",
       "</div>"
      ],
      "text/plain": [
       "              Brand     Price       Body  Mileage  EngineV Engine Type  \\\n",
       "0               BMW    4200.0      sedan      277      2.0      Petrol   \n",
       "1     Mercedes-Benz    7900.0        van      427      2.9      Diesel   \n",
       "2     Mercedes-Benz   13300.0      sedan      358      5.0         Gas   \n",
       "3              Audi   23000.0  crossover      240      4.2      Petrol   \n",
       "4            Toyota   18300.0  crossover      120      2.0      Petrol   \n",
       "...             ...       ...        ...      ...      ...         ...   \n",
       "4339         Toyota   17900.0      sedan       35      1.6      Petrol   \n",
       "4340  Mercedes-Benz  125000.0      sedan        9      3.0      Diesel   \n",
       "4341            BMW    6500.0      sedan        1      3.5      Petrol   \n",
       "4342            BMW    8000.0      sedan      194      2.0      Petrol   \n",
       "4344     Volkswagen   13500.0        van      124      2.0      Diesel   \n",
       "\n",
       "     Registration  Year              Model  \n",
       "0             yes  1991                320  \n",
       "1             yes  1999       Sprinter 212  \n",
       "2             yes  2003              S 500  \n",
       "3             yes  2007                 Q7  \n",
       "4             yes  2011              Rav 4  \n",
       "...           ...   ...                ...  \n",
       "4339          yes  2014            Corolla  \n",
       "4340          yes  2014              S 350  \n",
       "4341          yes  1999                535  \n",
       "4342          yes  1985                520  \n",
       "4344          yes  2013  T5 (Transporter)   \n",
       "\n",
       "[4025 rows x 9 columns]"
      ]
     },
     "execution_count": 6,
     "metadata": {},
     "output_type": "execute_result"
    }
   ],
   "source": [
    "car_price_prdt = car_price_prdt.dropna(axis=0)\n",
    "car_price_prdt"
   ]
  },
  {
   "cell_type": "code",
   "execution_count": 7,
   "metadata": {},
   "outputs": [
    {
     "data": {
      "text/plain": [
       "Brand           0\n",
       "Price           0\n",
       "Body            0\n",
       "Mileage         0\n",
       "EngineV         0\n",
       "Engine Type     0\n",
       "Registration    0\n",
       "Year            0\n",
       "Model           0\n",
       "dtype: int64"
      ]
     },
     "execution_count": 7,
     "metadata": {},
     "output_type": "execute_result"
    }
   ],
   "source": [
    "car_price_prdt.isnull().sum()"
   ]
  },
  {
   "cell_type": "markdown",
   "metadata": {},
   "source": [
    "### DATA VISUALIZATION"
   ]
  },
  {
   "cell_type": "code",
   "execution_count": 8,
   "metadata": {
    "scrolled": false
   },
   "outputs": [
    {
     "data": {
      "image/png": "[encoded data removed]",
      "text/plain": [
       "<Figure size 432x288 with 4 Axes>"
      ]
     },
     "metadata": {
      "needs_background": "light"
     },
     "output_type": "display_data"
    }
   ],
   "source": [
    "car_price_prdt.hist(rwidth=0.9)\n",
    "plt.tight_layout()"
   ]
  },
  {
   "cell_type": "code",
   "execution_count": 9,
   "metadata": {},
   "outputs": [
    {
     "data": {
      "image/png": "[encoded data removed]",
      "text/plain": [
       "<Figure size 432x288 with 3 Axes>"
      ]
     },
     "metadata": {
      "needs_background": "light"
     },
     "output_type": "display_data"
    }
   ],
   "source": [
    "ax1 = plt.subplot(2,2,1)\n",
    "plt.xlabel(\"EngineV\")\n",
    "plt.ylabel(\"Price\")\n",
    "plt.title(\"EngineV Vs Price\")\n",
    "plt.scatter(car_price_prdt.EngineV,car_price_prdt.Price,s=2,c='g')\n",
    "\n",
    "ax2 = plt.subplot(2,2,2)\n",
    "plt.xlabel(\"Mileage\")\n",
    "plt.ylabel(\"Price\")\n",
    "plt.title(\"Mileage Vs Price\")\n",
    "plt.scatter(car_price_prdt.Mileage,car_price_prdt.Price,s=2,c='b')\n",
    "\n",
    "ax2 = plt.subplot(2,2,3)\n",
    "plt.xlabel(\"Year\")\n",
    "plt.ylabel(\"Price\")\n",
    "plt.title(\"Year Vs Price\")\n",
    "plt.scatter(car_price_prdt.Year,car_price_prdt.Price,s=2,c='r')\n",
    "\n",
    "plt.tight_layout()"
   ]
  },
  {
   "cell_type": "code",
   "execution_count": 10,
   "metadata": {
    "scrolled": true
   },
   "outputs": [
    {
     "data": {
      "image/png": "[encoded data removed]",
      "text/plain": [
       "<Figure size 432x288 with 5 Axes>"
      ]
     },
     "metadata": {
      "needs_background": "light"
     },
     "output_type": "display_data"
    }
   ],
   "source": [
    "colors=['r','b','g','y']\n",
    "\n",
    "plt.subplot(3,3,1)\n",
    "plt.title(\"Avg Price per Brand\")\n",
    "cat_list = car_price_prdt['Brand'].unique()\n",
    "cat_avg = car_price_prdt.groupby('Brand').mean()['Price']\n",
    "plt.bar(cat_list,cat_avg,color=colors)\n",
    "\n",
    "plt.subplot(3,3,2)\n",
    "plt.title(\"Avg Price per Body\")\n",
    "cat_list = car_price_prdt['Body'].unique()\n",
    "cat_avg = car_price_prdt.groupby('Body').mean()['Price']\n",
    "plt.bar(cat_list,cat_avg,color=colors)\n",
    "\n",
    "plt.subplot(3,3,3)\n",
    "plt.title(\"Avg Price per Engine Type\")\n",
    "cat_list = car_price_prdt['Engine Type'].unique()\n",
    "cat_avg = car_price_prdt.groupby('Engine Type').mean()['Price']\n",
    "plt.bar(cat_list,cat_avg,color=colors)\n",
    "\n",
    "plt.subplot(3,3,4)\n",
    "plt.title(\"Avg Price per Registration\")\n",
    "cat_list = car_price_prdt['Registration'].unique()\n",
    "cat_avg = car_price_prdt.groupby('Registration').mean()['Price']\n",
    "plt.bar(cat_list,cat_avg,color=colors)\n",
    "\n",
    "plt.subplot(3,3,5)\n",
    "plt.title(\"Avg Price per Model\")\n",
    "cat_list = car_price_prdt['Model'].unique()\n",
    "cat_avg = car_price_prdt.groupby('Model').mean()['Price']\n",
    "plt.bar(cat_list,cat_avg,color=colors)\n",
    "plt.tight_layout()"
   ]
  },
  {
   "cell_type": "code",
   "execution_count": 11,
   "metadata": {
    "scrolled": true
   },
   "outputs": [
    {
     "data": {
      "text/plain": [
       "<matplotlib.axes._subplots.AxesSubplot at 0x24384bfde08>"
      ]
     },
     "execution_count": 11,
     "metadata": {},
     "output_type": "execute_result"
    },
    {
     "data": {
      "image/png": "[encoded data removed]",
      "text/plain": [
       "<Figure size 432x288 with 1 Axes>"
      ]
     },
     "metadata": {
      "needs_background": "light"
     },
     "output_type": "display_data"
    }
   ],
   "source": [
    "df1 = car_price['Body']\n",
    "plt.figure()\n",
    "df1.hist(rwidth = 0.9 , bins = 20)"
   ]
  },
  {
   "cell_type": "code",
   "execution_count": 12,
   "metadata": {
    "scrolled": false
   },
   "outputs": [
    {
     "data": {
      "text/plain": [
       "<matplotlib.axes._subplots.AxesSubplot at 0x24386865608>"
      ]
     },
     "execution_count": 12,
     "metadata": {},
     "output_type": "execute_result"
    },
    {
     "data": {
      "image/png": "[encoded data removed]",
      "text/plain": [
       "<Figure size 432x288 with 1 Axes>"
      ]
     },
     "metadata": {
      "needs_background": "light"
     },
     "output_type": "display_data"
    }
   ],
   "source": [
    "df1 = car_price['Engine Type']\n",
    "plt.figure()\n",
    "df1.hist(rwidth=0.9,bins=20)"
   ]
  },
  {
   "cell_type": "code",
   "execution_count": 13,
   "metadata": {
    "scrolled": false
   },
   "outputs": [
    {
     "data": {
      "text/plain": [
       "<matplotlib.axes._subplots.AxesSubplot at 0x2438507de88>"
      ]
     },
     "execution_count": 13,
     "metadata": {},
     "output_type": "execute_result"
    },
    {
     "data": {
      "image/png": "[encoded data removed]",
      "text/plain": [
       "<Figure size 432x288 with 1 Axes>"
      ]
     },
     "metadata": {
      "needs_background": "light"
     },
     "output_type": "display_data"
    }
   ],
   "source": [
    "df1 = car_price['Brand']\n",
    "plt.figure()\n",
    "df1.hist(rwidth = 0.9 , bins = 20)"
   ]
  },
  {
   "cell_type": "code",
   "execution_count": 14,
   "metadata": {
    "scrolled": true
   },
   "outputs": [
    {
     "data": {
      "text/plain": [
       "(array([-10,  -9,  -8,  -7,  -6,  -5,  -4,  -3,  -2,  -1,   0,   1,   2,\n",
       "          3,   4,   5,   6,   7,   8,   9,  10]),\n",
       " array([0.35139376, 0.38020247, 0.35031024, 0.35665148, 0.36027378,\n",
       "        0.35862175, 0.3641695 , 0.37816182, 0.36185443, 0.34201324,\n",
       "        1.        , 0.34201324, 0.36185443, 0.37816182, 0.3641695 ,\n",
       "        0.35862175, 0.36027378, 0.35665148, 0.35031024, 0.38020247,\n",
       "        0.35139376], dtype=float32),\n",
       " <matplotlib.collections.LineCollection at 0x24385368348>,\n",
       " <matplotlib.lines.Line2D at 0x24386894288>)"
      ]
     },
     "execution_count": 14,
     "metadata": {},
     "output_type": "execute_result"
    },
    {
     "data": {
      "image/png": "[encoded data removed]",
      "text/plain": [
       "<Figure size 432x288 with 1 Axes>"
      ]
     },
     "metadata": {
      "needs_background": "light"
     },
     "output_type": "display_data"
    }
   ],
   "source": [
    "cdf = pd.to_numeric(car_price_prdt['Price'],downcast='float')\n",
    "plt.acorr(cdf,maxlags=10)"
   ]
  },
  {
   "cell_type": "code",
   "execution_count": 15,
   "metadata": {
    "scrolled": false
   },
   "outputs": [
    {
     "data": {
      "text/html": [
       "<div>\n",
       "<style scoped>\n",
       "    .dataframe tbody tr th:only-of-type {\n",
       "        vertical-align: middle;\n",
       "    }\n",
       "\n",
       "    .dataframe tbody tr th {\n",
       "        vertical-align: top;\n",
       "    }\n",
       "\n",
       "    .dataframe thead th {\n",
       "        text-align: right;\n",
       "    }\n",
       "</style>\n",
       "<table border=\"1\" class=\"dataframe\">\n",
       "  <thead>\n",
       "    <tr style=\"text-align: right;\">\n",
       "      <th></th>\n",
       "      <th>Price</th>\n",
       "      <th>Mileage</th>\n",
       "      <th>EngineV</th>\n",
       "      <th>Year</th>\n",
       "    </tr>\n",
       "  </thead>\n",
       "  <tbody>\n",
       "    <tr>\n",
       "      <td>Price</td>\n",
       "      <td>1.000000</td>\n",
       "      <td>-0.473523</td>\n",
       "      <td>0.058664</td>\n",
       "      <td>0.485734</td>\n",
       "    </tr>\n",
       "    <tr>\n",
       "      <td>Mileage</td>\n",
       "      <td>-0.473523</td>\n",
       "      <td>1.000000</td>\n",
       "      <td>0.024935</td>\n",
       "      <td>-0.664573</td>\n",
       "    </tr>\n",
       "    <tr>\n",
       "      <td>EngineV</td>\n",
       "      <td>0.058664</td>\n",
       "      <td>0.024935</td>\n",
       "      <td>1.000000</td>\n",
       "      <td>-0.030321</td>\n",
       "    </tr>\n",
       "    <tr>\n",
       "      <td>Year</td>\n",
       "      <td>0.485734</td>\n",
       "      <td>-0.664573</td>\n",
       "      <td>-0.030321</td>\n",
       "      <td>1.000000</td>\n",
       "    </tr>\n",
       "  </tbody>\n",
       "</table>\n",
       "</div>"
      ],
      "text/plain": [
       "            Price   Mileage   EngineV      Year\n",
       "Price    1.000000 -0.473523  0.058664  0.485734\n",
       "Mileage -0.473523  1.000000  0.024935 -0.664573\n",
       "EngineV  0.058664  0.024935  1.000000 -0.030321\n",
       "Year     0.485734 -0.664573 -0.030321  1.000000"
      ]
     },
     "execution_count": 15,
     "metadata": {},
     "output_type": "execute_result"
    }
   ],
   "source": [
    "correlation = car_price_prdt.corr()\n",
    "correlation"
   ]
  },
  {
   "cell_type": "code",
   "execution_count": 16,
   "metadata": {},
   "outputs": [
    {
     "data": {
      "text/html": [
       "<div>\n",
       "<style scoped>\n",
       "    .dataframe tbody tr th:only-of-type {\n",
       "        vertical-align: middle;\n",
       "    }\n",
       "\n",
       "    .dataframe tbody tr th {\n",
       "        vertical-align: top;\n",
       "    }\n",
       "\n",
       "    .dataframe thead th {\n",
       "        text-align: right;\n",
       "    }\n",
       "</style>\n",
       "<table border=\"1\" class=\"dataframe\">\n",
       "  <thead>\n",
       "    <tr style=\"text-align: right;\">\n",
       "      <th></th>\n",
       "      <th>Brand</th>\n",
       "      <th>Price</th>\n",
       "      <th>Body</th>\n",
       "      <th>Mileage</th>\n",
       "      <th>EngineV</th>\n",
       "      <th>Engine Type</th>\n",
       "      <th>Registration</th>\n",
       "      <th>Year</th>\n",
       "      <th>Model</th>\n",
       "    </tr>\n",
       "  </thead>\n",
       "  <tbody>\n",
       "    <tr>\n",
       "      <td>0</td>\n",
       "      <td>1</td>\n",
       "      <td>95</td>\n",
       "      <td>3</td>\n",
       "      <td>276</td>\n",
       "      <td>17</td>\n",
       "      <td>3</td>\n",
       "      <td>1</td>\n",
       "      <td>13</td>\n",
       "      <td>18</td>\n",
       "    </tr>\n",
       "    <tr>\n",
       "      <td>1</td>\n",
       "      <td>2</td>\n",
       "      <td>186</td>\n",
       "      <td>5</td>\n",
       "      <td>374</td>\n",
       "      <td>30</td>\n",
       "      <td>0</td>\n",
       "      <td>1</td>\n",
       "      <td>21</td>\n",
       "      <td>261</td>\n",
       "    </tr>\n",
       "    <tr>\n",
       "      <td>2</td>\n",
       "      <td>2</td>\n",
       "      <td>333</td>\n",
       "      <td>3</td>\n",
       "      <td>339</td>\n",
       "      <td>49</td>\n",
       "      <td>1</td>\n",
       "      <td>1</td>\n",
       "      <td>25</td>\n",
       "      <td>232</td>\n",
       "    </tr>\n",
       "    <tr>\n",
       "      <td>3</td>\n",
       "      <td>0</td>\n",
       "      <td>501</td>\n",
       "      <td>0</td>\n",
       "      <td>239</td>\n",
       "      <td>40</td>\n",
       "      <td>3</td>\n",
       "      <td>1</td>\n",
       "      <td>29</td>\n",
       "      <td>219</td>\n",
       "    </tr>\n",
       "    <tr>\n",
       "      <td>4</td>\n",
       "      <td>5</td>\n",
       "      <td>433</td>\n",
       "      <td>0</td>\n",
       "      <td>119</td>\n",
       "      <td>17</td>\n",
       "      <td>3</td>\n",
       "      <td>1</td>\n",
       "      <td>33</td>\n",
       "      <td>222</td>\n",
       "    </tr>\n",
       "    <tr>\n",
       "      <td>...</td>\n",
       "      <td>...</td>\n",
       "      <td>...</td>\n",
       "      <td>...</td>\n",
       "      <td>...</td>\n",
       "      <td>...</td>\n",
       "      <td>...</td>\n",
       "      <td>...</td>\n",
       "      <td>...</td>\n",
       "      <td>...</td>\n",
       "    </tr>\n",
       "    <tr>\n",
       "      <td>4339</td>\n",
       "      <td>5</td>\n",
       "      <td>425</td>\n",
       "      <td>3</td>\n",
       "      <td>34</td>\n",
       "      <td>12</td>\n",
       "      <td>3</td>\n",
       "      <td>1</td>\n",
       "      <td>36</td>\n",
       "      <td>110</td>\n",
       "    </tr>\n",
       "    <tr>\n",
       "      <td>4340</td>\n",
       "      <td>2</td>\n",
       "      <td>860</td>\n",
       "      <td>3</td>\n",
       "      <td>9</td>\n",
       "      <td>33</td>\n",
       "      <td>0</td>\n",
       "      <td>1</td>\n",
       "      <td>36</td>\n",
       "      <td>228</td>\n",
       "    </tr>\n",
       "    <tr>\n",
       "      <td>4341</td>\n",
       "      <td>1</td>\n",
       "      <td>144</td>\n",
       "      <td>3</td>\n",
       "      <td>1</td>\n",
       "      <td>35</td>\n",
       "      <td>3</td>\n",
       "      <td>1</td>\n",
       "      <td>21</td>\n",
       "      <td>37</td>\n",
       "    </tr>\n",
       "    <tr>\n",
       "      <td>4342</td>\n",
       "      <td>1</td>\n",
       "      <td>190</td>\n",
       "      <td>3</td>\n",
       "      <td>193</td>\n",
       "      <td>17</td>\n",
       "      <td>3</td>\n",
       "      <td>1</td>\n",
       "      <td>7</td>\n",
       "      <td>31</td>\n",
       "    </tr>\n",
       "    <tr>\n",
       "      <td>4344</td>\n",
       "      <td>6</td>\n",
       "      <td>339</td>\n",
       "      <td>5</td>\n",
       "      <td>123</td>\n",
       "      <td>17</td>\n",
       "      <td>0</td>\n",
       "      <td>1</td>\n",
       "      <td>35</td>\n",
       "      <td>278</td>\n",
       "    </tr>\n",
       "  </tbody>\n",
       "</table>\n",
       "<p>4025 rows × 9 columns</p>\n",
       "</div>"
      ],
      "text/plain": [
       "      Brand  Price  Body  Mileage  EngineV  Engine Type  Registration  Year  \\\n",
       "0         1     95     3      276       17            3             1    13   \n",
       "1         2    186     5      374       30            0             1    21   \n",
       "2         2    333     3      339       49            1             1    25   \n",
       "3         0    501     0      239       40            3             1    29   \n",
       "4         5    433     0      119       17            3             1    33   \n",
       "...     ...    ...   ...      ...      ...          ...           ...   ...   \n",
       "4339      5    425     3       34       12            3             1    36   \n",
       "4340      2    860     3        9       33            0             1    36   \n",
       "4341      1    144     3        1       35            3             1    21   \n",
       "4342      1    190     3      193       17            3             1     7   \n",
       "4344      6    339     5      123       17            0             1    35   \n",
       "\n",
       "      Model  \n",
       "0        18  \n",
       "1       261  \n",
       "2       232  \n",
       "3       219  \n",
       "4       222  \n",
       "...     ...  \n",
       "4339    110  \n",
       "4340    228  \n",
       "4341     37  \n",
       "4342     31  \n",
       "4344    278  \n",
       "\n",
       "[4025 rows x 9 columns]"
      ]
     },
     "execution_count": 16,
     "metadata": {},
     "output_type": "execute_result"
    }
   ],
   "source": [
    "from sklearn.preprocessing import LabelEncoder\n",
    "\n",
    "car_price_prdt = car_price_prdt.apply(LabelEncoder().fit_transform)\n",
    "car_price_prdt"
   ]
  },
  {
   "cell_type": "code",
   "execution_count": 17,
   "metadata": {},
   "outputs": [
    {
     "data": {
      "text/plain": [
       "Index(['Brand', 'Price', 'Body', 'Mileage', 'EngineV', 'Engine Type',\n",
       "       'Registration', 'Year', 'Model'],\n",
       "      dtype='object')"
      ]
     },
     "execution_count": 17,
     "metadata": {},
     "output_type": "execute_result"
    }
   ],
   "source": [
    "car_price_prdt.columns"
   ]
  },
  {
   "cell_type": "code",
   "execution_count": 18,
   "metadata": {},
   "outputs": [
    {
     "data": {
      "text/plain": [
       "Brand           int32\n",
       "Price           int64\n",
       "Body            int32\n",
       "Mileage         int64\n",
       "EngineV         int64\n",
       "Engine Type     int32\n",
       "Registration    int32\n",
       "Year            int64\n",
       "Model           int32\n",
       "dtype: object"
      ]
     },
     "execution_count": 18,
     "metadata": {},
     "output_type": "execute_result"
    }
   ],
   "source": [
    "car_price_prdt.dtypes"
   ]
  },
  {
   "cell_type": "code",
   "execution_count": 19,
   "metadata": {},
   "outputs": [
    {
     "data": {
      "text/html": [
       "<div>\n",
       "<style scoped>\n",
       "    .dataframe tbody tr th:only-of-type {\n",
       "        vertical-align: middle;\n",
       "    }\n",
       "\n",
       "    .dataframe tbody tr th {\n",
       "        vertical-align: top;\n",
       "    }\n",
       "\n",
       "    .dataframe thead th {\n",
       "        text-align: right;\n",
       "    }\n",
       "</style>\n",
       "<table border=\"1\" class=\"dataframe\">\n",
       "  <thead>\n",
       "    <tr style=\"text-align: right;\">\n",
       "      <th></th>\n",
       "      <th>Brand</th>\n",
       "      <th>Price</th>\n",
       "      <th>Body</th>\n",
       "      <th>Mileage</th>\n",
       "      <th>EngineV</th>\n",
       "      <th>Engine Type</th>\n",
       "      <th>Registration</th>\n",
       "      <th>Year</th>\n",
       "      <th>Model</th>\n",
       "    </tr>\n",
       "  </thead>\n",
       "  <tbody>\n",
       "    <tr>\n",
       "      <td>Brand</td>\n",
       "      <td>1.000000</td>\n",
       "      <td>-0.138087</td>\n",
       "      <td>0.087402</td>\n",
       "      <td>-0.106844</td>\n",
       "      <td>-0.329457</td>\n",
       "      <td>-0.047752</td>\n",
       "      <td>0.158644</td>\n",
       "      <td>0.133091</td>\n",
       "      <td>0.333825</td>\n",
       "    </tr>\n",
       "    <tr>\n",
       "      <td>Price</td>\n",
       "      <td>-0.138087</td>\n",
       "      <td>1.000000</td>\n",
       "      <td>-0.421934</td>\n",
       "      <td>-0.628521</td>\n",
       "      <td>0.445390</td>\n",
       "      <td>0.034562</td>\n",
       "      <td>0.353441</td>\n",
       "      <td>0.707909</td>\n",
       "      <td>0.193137</td>\n",
       "    </tr>\n",
       "    <tr>\n",
       "      <td>Body</td>\n",
       "      <td>0.087402</td>\n",
       "      <td>-0.421934</td>\n",
       "      <td>1.000000</td>\n",
       "      <td>0.296308</td>\n",
       "      <td>-0.315626</td>\n",
       "      <td>-0.198551</td>\n",
       "      <td>-0.072907</td>\n",
       "      <td>-0.161183</td>\n",
       "      <td>-0.099132</td>\n",
       "    </tr>\n",
       "    <tr>\n",
       "      <td>Mileage</td>\n",
       "      <td>-0.106844</td>\n",
       "      <td>-0.628521</td>\n",
       "      <td>0.296308</td>\n",
       "      <td>1.000000</td>\n",
       "      <td>0.002266</td>\n",
       "      <td>-0.191127</td>\n",
       "      <td>-0.243732</td>\n",
       "      <td>-0.683744</td>\n",
       "      <td>-0.115614</td>\n",
       "    </tr>\n",
       "    <tr>\n",
       "      <td>EngineV</td>\n",
       "      <td>-0.329457</td>\n",
       "      <td>0.445390</td>\n",
       "      <td>-0.315626</td>\n",
       "      <td>0.002266</td>\n",
       "      <td>1.000000</td>\n",
       "      <td>0.044441</td>\n",
       "      <td>0.007971</td>\n",
       "      <td>0.012773</td>\n",
       "      <td>0.057993</td>\n",
       "    </tr>\n",
       "    <tr>\n",
       "      <td>Engine Type</td>\n",
       "      <td>-0.047752</td>\n",
       "      <td>0.034562</td>\n",
       "      <td>-0.198551</td>\n",
       "      <td>-0.191127</td>\n",
       "      <td>0.044441</td>\n",
       "      <td>1.000000</td>\n",
       "      <td>0.126441</td>\n",
       "      <td>-0.057237</td>\n",
       "      <td>-0.183698</td>\n",
       "    </tr>\n",
       "    <tr>\n",
       "      <td>Registration</td>\n",
       "      <td>0.158644</td>\n",
       "      <td>0.353441</td>\n",
       "      <td>-0.072907</td>\n",
       "      <td>-0.243732</td>\n",
       "      <td>0.007971</td>\n",
       "      <td>0.126441</td>\n",
       "      <td>1.000000</td>\n",
       "      <td>0.245011</td>\n",
       "      <td>0.173257</td>\n",
       "    </tr>\n",
       "    <tr>\n",
       "      <td>Year</td>\n",
       "      <td>0.133091</td>\n",
       "      <td>0.707909</td>\n",
       "      <td>-0.161183</td>\n",
       "      <td>-0.683744</td>\n",
       "      <td>0.012773</td>\n",
       "      <td>-0.057237</td>\n",
       "      <td>0.245011</td>\n",
       "      <td>1.000000</td>\n",
       "      <td>0.261128</td>\n",
       "    </tr>\n",
       "    <tr>\n",
       "      <td>Model</td>\n",
       "      <td>0.333825</td>\n",
       "      <td>0.193137</td>\n",
       "      <td>-0.099132</td>\n",
       "      <td>-0.115614</td>\n",
       "      <td>0.057993</td>\n",
       "      <td>-0.183698</td>\n",
       "      <td>0.173257</td>\n",
       "      <td>0.261128</td>\n",
       "      <td>1.000000</td>\n",
       "    </tr>\n",
       "  </tbody>\n",
       "</table>\n",
       "</div>"
      ],
      "text/plain": [
       "                 Brand     Price      Body   Mileage   EngineV  Engine Type  \\\n",
       "Brand         1.000000 -0.138087  0.087402 -0.106844 -0.329457    -0.047752   \n",
       "Price        -0.138087  1.000000 -0.421934 -0.628521  0.445390     0.034562   \n",
       "Body          0.087402 -0.421934  1.000000  0.296308 -0.315626    -0.198551   \n",
       "Mileage      -0.106844 -0.628521  0.296308  1.000000  0.002266    -0.191127   \n",
       "EngineV      -0.329457  0.445390 -0.315626  0.002266  1.000000     0.044441   \n",
       "Engine Type  -0.047752  0.034562 -0.198551 -0.191127  0.044441     1.000000   \n",
       "Registration  0.158644  0.353441 -0.072907 -0.243732  0.007971     0.126441   \n",
       "Year          0.133091  0.707909 -0.161183 -0.683744  0.012773    -0.057237   \n",
       "Model         0.333825  0.193137 -0.099132 -0.115614  0.057993    -0.183698   \n",
       "\n",
       "              Registration      Year     Model  \n",
       "Brand             0.158644  0.133091  0.333825  \n",
       "Price             0.353441  0.707909  0.193137  \n",
       "Body             -0.072907 -0.161183 -0.099132  \n",
       "Mileage          -0.243732 -0.683744 -0.115614  \n",
       "EngineV           0.007971  0.012773  0.057993  \n",
       "Engine Type       0.126441 -0.057237 -0.183698  \n",
       "Registration      1.000000  0.245011  0.173257  \n",
       "Year              0.245011  1.000000  0.261128  \n",
       "Model             0.173257  0.261128  1.000000  "
      ]
     },
     "execution_count": 19,
     "metadata": {},
     "output_type": "execute_result"
    }
   ],
   "source": [
    "car_price_prdt_cor = car_price_prdt.corr()\n",
    "car_price_prdt_cor"
   ]
  },
  {
   "cell_type": "code",
   "execution_count": 20,
   "metadata": {},
   "outputs": [
    {
     "data": {
      "text/html": [
       "<div>\n",
       "<style scoped>\n",
       "    .dataframe tbody tr th:only-of-type {\n",
       "        vertical-align: middle;\n",
       "    }\n",
       "\n",
       "    .dataframe tbody tr th {\n",
       "        vertical-align: top;\n",
       "    }\n",
       "\n",
       "    .dataframe thead th {\n",
       "        text-align: right;\n",
       "    }\n",
       "</style>\n",
       "<table border=\"1\" class=\"dataframe\">\n",
       "  <thead>\n",
       "    <tr style=\"text-align: right;\">\n",
       "      <th></th>\n",
       "      <th>Brand</th>\n",
       "      <th>Price</th>\n",
       "      <th>Body</th>\n",
       "      <th>Mileage</th>\n",
       "      <th>EngineV</th>\n",
       "      <th>Engine Type</th>\n",
       "      <th>Registration</th>\n",
       "      <th>Year</th>\n",
       "      <th>Model</th>\n",
       "    </tr>\n",
       "  </thead>\n",
       "  <tbody>\n",
       "    <tr>\n",
       "      <td>Brand</td>\n",
       "      <td>1.000000</td>\n",
       "      <td>NaN</td>\n",
       "      <td>NaN</td>\n",
       "      <td>NaN</td>\n",
       "      <td>NaN</td>\n",
       "      <td>NaN</td>\n",
       "      <td>NaN</td>\n",
       "      <td>NaN</td>\n",
       "      <td>0.333825</td>\n",
       "    </tr>\n",
       "    <tr>\n",
       "      <td>Price</td>\n",
       "      <td>NaN</td>\n",
       "      <td>1.000000</td>\n",
       "      <td>NaN</td>\n",
       "      <td>NaN</td>\n",
       "      <td>0.44539</td>\n",
       "      <td>NaN</td>\n",
       "      <td>0.353441</td>\n",
       "      <td>0.707909</td>\n",
       "      <td>NaN</td>\n",
       "    </tr>\n",
       "    <tr>\n",
       "      <td>Body</td>\n",
       "      <td>NaN</td>\n",
       "      <td>NaN</td>\n",
       "      <td>1.000000</td>\n",
       "      <td>0.296308</td>\n",
       "      <td>NaN</td>\n",
       "      <td>NaN</td>\n",
       "      <td>NaN</td>\n",
       "      <td>NaN</td>\n",
       "      <td>NaN</td>\n",
       "    </tr>\n",
       "    <tr>\n",
       "      <td>Mileage</td>\n",
       "      <td>NaN</td>\n",
       "      <td>NaN</td>\n",
       "      <td>0.296308</td>\n",
       "      <td>1.000000</td>\n",
       "      <td>NaN</td>\n",
       "      <td>NaN</td>\n",
       "      <td>NaN</td>\n",
       "      <td>NaN</td>\n",
       "      <td>NaN</td>\n",
       "    </tr>\n",
       "    <tr>\n",
       "      <td>EngineV</td>\n",
       "      <td>NaN</td>\n",
       "      <td>0.445390</td>\n",
       "      <td>NaN</td>\n",
       "      <td>NaN</td>\n",
       "      <td>1.00000</td>\n",
       "      <td>NaN</td>\n",
       "      <td>NaN</td>\n",
       "      <td>NaN</td>\n",
       "      <td>NaN</td>\n",
       "    </tr>\n",
       "    <tr>\n",
       "      <td>Engine Type</td>\n",
       "      <td>NaN</td>\n",
       "      <td>NaN</td>\n",
       "      <td>NaN</td>\n",
       "      <td>NaN</td>\n",
       "      <td>NaN</td>\n",
       "      <td>1.0</td>\n",
       "      <td>NaN</td>\n",
       "      <td>NaN</td>\n",
       "      <td>NaN</td>\n",
       "    </tr>\n",
       "    <tr>\n",
       "      <td>Registration</td>\n",
       "      <td>NaN</td>\n",
       "      <td>0.353441</td>\n",
       "      <td>NaN</td>\n",
       "      <td>NaN</td>\n",
       "      <td>NaN</td>\n",
       "      <td>NaN</td>\n",
       "      <td>1.000000</td>\n",
       "      <td>0.245011</td>\n",
       "      <td>NaN</td>\n",
       "    </tr>\n",
       "    <tr>\n",
       "      <td>Year</td>\n",
       "      <td>NaN</td>\n",
       "      <td>0.707909</td>\n",
       "      <td>NaN</td>\n",
       "      <td>NaN</td>\n",
       "      <td>NaN</td>\n",
       "      <td>NaN</td>\n",
       "      <td>0.245011</td>\n",
       "      <td>1.000000</td>\n",
       "      <td>0.261128</td>\n",
       "    </tr>\n",
       "    <tr>\n",
       "      <td>Model</td>\n",
       "      <td>0.333825</td>\n",
       "      <td>NaN</td>\n",
       "      <td>NaN</td>\n",
       "      <td>NaN</td>\n",
       "      <td>NaN</td>\n",
       "      <td>NaN</td>\n",
       "      <td>NaN</td>\n",
       "      <td>0.261128</td>\n",
       "      <td>1.000000</td>\n",
       "    </tr>\n",
       "  </tbody>\n",
       "</table>\n",
       "</div>"
      ],
      "text/plain": [
       "                 Brand     Price      Body   Mileage  EngineV  Engine Type  \\\n",
       "Brand         1.000000       NaN       NaN       NaN      NaN          NaN   \n",
       "Price              NaN  1.000000       NaN       NaN  0.44539          NaN   \n",
       "Body               NaN       NaN  1.000000  0.296308      NaN          NaN   \n",
       "Mileage            NaN       NaN  0.296308  1.000000      NaN          NaN   \n",
       "EngineV            NaN  0.445390       NaN       NaN  1.00000          NaN   \n",
       "Engine Type        NaN       NaN       NaN       NaN      NaN          1.0   \n",
       "Registration       NaN  0.353441       NaN       NaN      NaN          NaN   \n",
       "Year               NaN  0.707909       NaN       NaN      NaN          NaN   \n",
       "Model         0.333825       NaN       NaN       NaN      NaN          NaN   \n",
       "\n",
       "              Registration      Year     Model  \n",
       "Brand                  NaN       NaN  0.333825  \n",
       "Price             0.353441  0.707909       NaN  \n",
       "Body                   NaN       NaN       NaN  \n",
       "Mileage                NaN       NaN       NaN  \n",
       "EngineV                NaN       NaN       NaN  \n",
       "Engine Type            NaN       NaN       NaN  \n",
       "Registration      1.000000  0.245011       NaN  \n",
       "Year              0.245011  1.000000  0.261128  \n",
       "Model                  NaN  0.261128  1.000000  "
      ]
     },
     "execution_count": 20,
     "metadata": {},
     "output_type": "execute_result"
    }
   ],
   "source": [
    "car_price_prdt_cor[car_price_prdt_cor>0.2]"
   ]
  },
  {
   "cell_type": "code",
   "execution_count": 21,
   "metadata": {},
   "outputs": [
    {
     "data": {
      "text/plain": [
       "<matplotlib.axes._subplots.AxesSubplot at 0x24395a9a248>"
      ]
     },
     "execution_count": 21,
     "metadata": {},
     "output_type": "execute_result"
    },
    {
     "data": {
      "image/png": "[encoded data removed]",
      "text/plain": [
       "<Figure size 576x360 with 2 Axes>"
      ]
     },
     "metadata": {
      "needs_background": "light"
     },
     "output_type": "display_data"
    }
   ],
   "source": [
    "import seaborn as sns\n",
    "plt.figure(figsize=(8,5))\n",
    "sns.heatmap(car_price_prdt_cor,annot=True,cmap=\"Blues\",\n",
    "            fmt=\"0.2f\",linecolor='white')"
   ]
  },
  {
   "cell_type": "code",
   "execution_count": 22,
   "metadata": {},
   "outputs": [],
   "source": [
    "car_price_prdt['Price'] = car_price_prdt['Price'].astype('float')"
   ]
  },
  {
   "cell_type": "code",
   "execution_count": 23,
   "metadata": {},
   "outputs": [],
   "source": [
    "Y = car_price_prdt['Price']\n",
    "x = car_price_prdt"
   ]
  },
  {
   "cell_type": "markdown",
   "metadata": {},
   "source": [
    "### FEATURE SELECTION"
   ]
  },
  {
   "cell_type": "code",
   "execution_count": 24,
   "metadata": {},
   "outputs": [],
   "source": [
    "from sklearn.ensemble import ExtraTreesClassifier\n",
    "from sklearn.feature_selection import RFE\n",
    "from sklearn.linear_model import LinearRegression\n",
    "from sklearn.linear_model import LogisticRegression\n",
    "from sklearn.preprocessing import StandardScaler\n",
    "from sklearn.model_selection import train_test_split\n",
    "from sklearn.model_selection import KFold\n",
    "from sklearn.model_selection import cross_val_score\n",
    "from sklearn.metrics import confusion_matrix"
   ]
  },
  {
   "cell_type": "code",
   "execution_count": 25,
   "metadata": {
    "scrolled": true
   },
   "outputs": [
    {
     "name": "stderr",
     "output_type": "stream",
     "text": [
      "C:\\Users\\vishn\\Anaconda3\\lib\\site-packages\\sklearn\\ensemble\\forest.py:245: FutureWarning: The default value of n_estimators will change from 10 in version 0.20 to 100 in 0.22.\n",
      "  \"10 in version 0.20 to 100 in 0.22.\", FutureWarning)\n"
     ]
    },
    {
     "name": "stdout",
     "output_type": "stream",
     "text": [
      "[0.04985114 0.34287129 0.05337219 0.18839619 0.08822964 0.04739204\n",
      " 0.00407774 0.13020576 0.09560401]\n"
     ]
    }
   ],
   "source": [
    "model = ExtraTreesClassifier()\n",
    "model.fit(x,Y)\n",
    "print(model.feature_importances_)"
   ]
  },
  {
   "cell_type": "code",
   "execution_count": 26,
   "metadata": {},
   "outputs": [
    {
     "data": {
      "text/plain": [
       "Index(['Brand', 'Price', 'Body', 'Mileage', 'EngineV', 'Engine Type',\n",
       "       'Registration', 'Year', 'Model'],\n",
       "      dtype='object')"
      ]
     },
     "execution_count": 26,
     "metadata": {},
     "output_type": "execute_result"
    }
   ],
   "source": [
    "car_price_prdt.columns"
   ]
  },
  {
   "cell_type": "code",
   "execution_count": 27,
   "metadata": {
    "scrolled": true
   },
   "outputs": [
    {
     "name": "stderr",
     "output_type": "stream",
     "text": [
      "C:\\Users\\vishn\\Anaconda3\\lib\\site-packages\\sklearn\\linear_model\\logistic.py:432: FutureWarning: Default solver will be changed to 'lbfgs' in 0.22. Specify a solver to silence this warning.\n",
      "  FutureWarning)\n",
      "C:\\Users\\vishn\\Anaconda3\\lib\\site-packages\\sklearn\\linear_model\\logistic.py:469: FutureWarning: Default multi_class will be changed to 'auto' in 0.22. Specify the multi_class option to silence this warning.\n",
      "  \"this warning.\", FutureWarning)\n",
      "C:\\Users\\vishn\\Anaconda3\\lib\\site-packages\\sklearn\\linear_model\\logistic.py:432: FutureWarning: Default solver will be changed to 'lbfgs' in 0.22. Specify a solver to silence this warning.\n",
      "  FutureWarning)\n",
      "C:\\Users\\vishn\\Anaconda3\\lib\\site-packages\\sklearn\\linear_model\\logistic.py:469: FutureWarning: Default multi_class will be changed to 'auto' in 0.22. Specify the multi_class option to silence this warning.\n",
      "  \"this warning.\", FutureWarning)\n",
      "C:\\Users\\vishn\\Anaconda3\\lib\\site-packages\\sklearn\\linear_model\\logistic.py:432: FutureWarning: Default solver will be changed to 'lbfgs' in 0.22. Specify a solver to silence this warning.\n",
      "  FutureWarning)\n",
      "C:\\Users\\vishn\\Anaconda3\\lib\\site-packages\\sklearn\\linear_model\\logistic.py:469: FutureWarning: Default multi_class will be changed to 'auto' in 0.22. Specify the multi_class option to silence this warning.\n",
      "  \"this warning.\", FutureWarning)\n",
      "C:\\Users\\vishn\\Anaconda3\\lib\\site-packages\\sklearn\\linear_model\\logistic.py:432: FutureWarning: Default solver will be changed to 'lbfgs' in 0.22. Specify a solver to silence this warning.\n",
      "  FutureWarning)\n",
      "C:\\Users\\vishn\\Anaconda3\\lib\\site-packages\\sklearn\\linear_model\\logistic.py:469: FutureWarning: Default multi_class will be changed to 'auto' in 0.22. Specify the multi_class option to silence this warning.\n",
      "  \"this warning.\", FutureWarning)\n",
      "C:\\Users\\vishn\\Anaconda3\\lib\\site-packages\\sklearn\\linear_model\\logistic.py:432: FutureWarning: Default solver will be changed to 'lbfgs' in 0.22. Specify a solver to silence this warning.\n",
      "  FutureWarning)\n",
      "C:\\Users\\vishn\\Anaconda3\\lib\\site-packages\\sklearn\\linear_model\\logistic.py:469: FutureWarning: Default multi_class will be changed to 'auto' in 0.22. Specify the multi_class option to silence this warning.\n",
      "  \"this warning.\", FutureWarning)\n",
      "C:\\Users\\vishn\\Anaconda3\\lib\\site-packages\\sklearn\\linear_model\\logistic.py:432: FutureWarning: Default solver will be changed to 'lbfgs' in 0.22. Specify a solver to silence this warning.\n",
      "  FutureWarning)\n",
      "C:\\Users\\vishn\\Anaconda3\\lib\\site-packages\\sklearn\\linear_model\\logistic.py:469: FutureWarning: Default multi_class will be changed to 'auto' in 0.22. Specify the multi_class option to silence this warning.\n",
      "  \"this warning.\", FutureWarning)\n",
      "C:\\Users\\vishn\\Anaconda3\\lib\\site-packages\\sklearn\\linear_model\\logistic.py:432: FutureWarning: Default solver will be changed to 'lbfgs' in 0.22. Specify a solver to silence this warning.\n",
      "  FutureWarning)\n",
      "C:\\Users\\vishn\\Anaconda3\\lib\\site-packages\\sklearn\\linear_model\\logistic.py:469: FutureWarning: Default multi_class will be changed to 'auto' in 0.22. Specify the multi_class option to silence this warning.\n",
      "  \"this warning.\", FutureWarning)\n"
     ]
    },
    {
     "name": "stdout",
     "output_type": "stream",
     "text": [
      "Num features 3\n",
      "Selected Features:  [ True False  True False False False  True False False]\n",
      "Feature Ranking:  [1 6 1 3 4 2 1 5 7]\n"
     ]
    }
   ],
   "source": [
    "model = LogisticRegression()\n",
    "rfe = RFE(model, 3) \n",
    "fit = rfe.fit(x,Y)  \n",
    "print(\"Num features\",fit.n_features_)\n",
    "print(\"Selected Features: \",fit.support_) \n",
    "print(\"Feature Ranking: \",fit.ranking_)"
   ]
  },
  {
   "cell_type": "code",
   "execution_count": 28,
   "metadata": {
    "scrolled": true
   },
   "outputs": [
    {
     "data": {
      "text/html": [
       "<div>\n",
       "<style scoped>\n",
       "    .dataframe tbody tr th:only-of-type {\n",
       "        vertical-align: middle;\n",
       "    }\n",
       "\n",
       "    .dataframe tbody tr th {\n",
       "        vertical-align: top;\n",
       "    }\n",
       "\n",
       "    .dataframe thead th {\n",
       "        text-align: right;\n",
       "    }\n",
       "</style>\n",
       "<table border=\"1\" class=\"dataframe\">\n",
       "  <thead>\n",
       "    <tr style=\"text-align: right;\">\n",
       "      <th></th>\n",
       "      <th>Brand</th>\n",
       "      <th>Price</th>\n",
       "      <th>Body</th>\n",
       "      <th>Mileage</th>\n",
       "      <th>Engine Type</th>\n",
       "      <th>Registration</th>\n",
       "    </tr>\n",
       "  </thead>\n",
       "  <tbody>\n",
       "    <tr>\n",
       "      <td>0</td>\n",
       "      <td>1</td>\n",
       "      <td>95.0</td>\n",
       "      <td>3</td>\n",
       "      <td>276</td>\n",
       "      <td>3</td>\n",
       "      <td>1</td>\n",
       "    </tr>\n",
       "    <tr>\n",
       "      <td>1</td>\n",
       "      <td>2</td>\n",
       "      <td>186.0</td>\n",
       "      <td>5</td>\n",
       "      <td>374</td>\n",
       "      <td>0</td>\n",
       "      <td>1</td>\n",
       "    </tr>\n",
       "    <tr>\n",
       "      <td>2</td>\n",
       "      <td>2</td>\n",
       "      <td>333.0</td>\n",
       "      <td>3</td>\n",
       "      <td>339</td>\n",
       "      <td>1</td>\n",
       "      <td>1</td>\n",
       "    </tr>\n",
       "    <tr>\n",
       "      <td>3</td>\n",
       "      <td>0</td>\n",
       "      <td>501.0</td>\n",
       "      <td>0</td>\n",
       "      <td>239</td>\n",
       "      <td>3</td>\n",
       "      <td>1</td>\n",
       "    </tr>\n",
       "    <tr>\n",
       "      <td>4</td>\n",
       "      <td>5</td>\n",
       "      <td>433.0</td>\n",
       "      <td>0</td>\n",
       "      <td>119</td>\n",
       "      <td>3</td>\n",
       "      <td>1</td>\n",
       "    </tr>\n",
       "    <tr>\n",
       "      <td>...</td>\n",
       "      <td>...</td>\n",
       "      <td>...</td>\n",
       "      <td>...</td>\n",
       "      <td>...</td>\n",
       "      <td>...</td>\n",
       "      <td>...</td>\n",
       "    </tr>\n",
       "    <tr>\n",
       "      <td>4339</td>\n",
       "      <td>5</td>\n",
       "      <td>425.0</td>\n",
       "      <td>3</td>\n",
       "      <td>34</td>\n",
       "      <td>3</td>\n",
       "      <td>1</td>\n",
       "    </tr>\n",
       "    <tr>\n",
       "      <td>4340</td>\n",
       "      <td>2</td>\n",
       "      <td>860.0</td>\n",
       "      <td>3</td>\n",
       "      <td>9</td>\n",
       "      <td>0</td>\n",
       "      <td>1</td>\n",
       "    </tr>\n",
       "    <tr>\n",
       "      <td>4341</td>\n",
       "      <td>1</td>\n",
       "      <td>144.0</td>\n",
       "      <td>3</td>\n",
       "      <td>1</td>\n",
       "      <td>3</td>\n",
       "      <td>1</td>\n",
       "    </tr>\n",
       "    <tr>\n",
       "      <td>4342</td>\n",
       "      <td>1</td>\n",
       "      <td>190.0</td>\n",
       "      <td>3</td>\n",
       "      <td>193</td>\n",
       "      <td>3</td>\n",
       "      <td>1</td>\n",
       "    </tr>\n",
       "    <tr>\n",
       "      <td>4344</td>\n",
       "      <td>6</td>\n",
       "      <td>339.0</td>\n",
       "      <td>5</td>\n",
       "      <td>123</td>\n",
       "      <td>0</td>\n",
       "      <td>1</td>\n",
       "    </tr>\n",
       "  </tbody>\n",
       "</table>\n",
       "<p>4025 rows × 6 columns</p>\n",
       "</div>"
      ],
      "text/plain": [
       "      Brand  Price  Body  Mileage  Engine Type  Registration\n",
       "0         1   95.0     3      276            3             1\n",
       "1         2  186.0     5      374            0             1\n",
       "2         2  333.0     3      339            1             1\n",
       "3         0  501.0     0      239            3             1\n",
       "4         5  433.0     0      119            3             1\n",
       "...     ...    ...   ...      ...          ...           ...\n",
       "4339      5  425.0     3       34            3             1\n",
       "4340      2  860.0     3        9            0             1\n",
       "4341      1  144.0     3        1            3             1\n",
       "4342      1  190.0     3      193            3             1\n",
       "4344      6  339.0     5      123            0             1\n",
       "\n",
       "[4025 rows x 6 columns]"
      ]
     },
     "execution_count": 28,
     "metadata": {},
     "output_type": "execute_result"
    }
   ],
   "source": [
    "car_price_prdt = car_price_prdt.drop(columns=['EngineV','Year','Model'])\n",
    "car_price_prdt"
   ]
  },
  {
   "cell_type": "code",
   "execution_count": 29,
   "metadata": {},
   "outputs": [],
   "source": [
    "Y = car_price_prdt['Price']\n",
    "x = car_price_prdt"
   ]
  },
  {
   "cell_type": "markdown",
   "metadata": {},
   "source": [
    "### TRAIN SPLIT AND TRANSFORM"
   ]
  },
  {
   "cell_type": "code",
   "execution_count": 30,
   "metadata": {},
   "outputs": [],
   "source": [
    "x_train,x_test,y_train,y_test = train_test_split(x,Y,test_size =0.33)"
   ]
  },
  {
   "cell_type": "code",
   "execution_count": 31,
   "metadata": {},
   "outputs": [],
   "source": [
    "cscaler = StandardScaler()\n",
    "x_train_std = cscaler.fit_transform(x_train)\n",
    "x_test_std = cscaler.fit_transform(x_test)"
   ]
  },
  {
   "cell_type": "code",
   "execution_count": 32,
   "metadata": {
    "scrolled": false
   },
   "outputs": [
    {
     "data": {
      "text/plain": [
       "array([[ 0.38610015, -0.07922687,  1.493629  , -0.02980589, -0.96424514,\n",
       "         0.31758069],\n",
       "       [-0.57239525,  0.23310117,  1.493629  , -0.90257043, -0.96424514,\n",
       "         0.31758069],\n",
       "       [-1.05164295, -0.91057061,  0.26948436,  1.41441163,  1.2381877 ,\n",
       "         0.31758069],\n",
       "       ...,\n",
       "       [-0.57239525,  1.14711998, -1.56673259, -0.67398924, -0.96424514,\n",
       "         0.31758069],\n",
       "       [-1.53089065, -0.57068422,  0.26948436, -0.08175616,  1.2381877 ,\n",
       "         0.31758069],\n",
       "       [-1.05164295,  1.89119559, -1.56673259, -1.66104438, -0.96424514,\n",
       "         0.31758069]])"
      ]
     },
     "execution_count": 32,
     "metadata": {},
     "output_type": "execute_result"
    }
   ],
   "source": [
    "x_train_std"
   ]
  },
  {
   "cell_type": "code",
   "execution_count": 33,
   "metadata": {
    "scrolled": true
   },
   "outputs": [
    {
     "data": {
      "text/plain": [
       "4296    313.0\n",
       "746     381.0\n",
       "36      132.0\n",
       "3816    713.0\n",
       "3722    540.0\n",
       "        ...  \n",
       "2921    423.0\n",
       "2688     93.0\n",
       "3820    580.0\n",
       "695     206.0\n",
       "1150    742.0\n",
       "Name: Price, Length: 2696, dtype: float64"
      ]
     },
     "execution_count": 33,
     "metadata": {},
     "output_type": "execute_result"
    }
   ],
   "source": [
    "y_train"
   ]
  },
  {
   "cell_type": "markdown",
   "metadata": {},
   "source": [
    "### LINEAR REGRESSION"
   ]
  },
  {
   "cell_type": "code",
   "execution_count": 34,
   "metadata": {
    "scrolled": true
   },
   "outputs": [
    {
     "data": {
      "text/plain": [
       "LinearRegression(copy_X=True, fit_intercept=True, n_jobs=None, normalize=False)"
      ]
     },
     "execution_count": 34,
     "metadata": {},
     "output_type": "execute_result"
    }
   ],
   "source": [
    "model = LinearRegression()\n",
    "model.fit(x_train_std,y_train)"
   ]
  },
  {
   "cell_type": "code",
   "execution_count": 35,
   "metadata": {},
   "outputs": [
    {
     "data": {
      "text/plain": [
       "1.0"
      ]
     },
     "execution_count": 35,
     "metadata": {},
     "output_type": "execute_result"
    }
   ],
   "source": [
    "model.score(x_train_std,y_train)"
   ]
  },
  {
   "cell_type": "code",
   "execution_count": 36,
   "metadata": {},
   "outputs": [
    {
     "data": {
      "text/plain": [
       "array([ 1.99134401e-14,  2.17719808e+02,  2.84217094e-14,  1.56319402e-13,\n",
       "       -3.55271368e-14, -2.84217094e-14])"
      ]
     },
     "execution_count": 36,
     "metadata": {},
     "output_type": "execute_result"
    }
   ],
   "source": [
    "model.coef_"
   ]
  },
  {
   "cell_type": "code",
   "execution_count": 37,
   "metadata": {
    "scrolled": true
   },
   "outputs": [
    {
     "data": {
      "text/plain": [
       "330.2492581602374"
      ]
     },
     "execution_count": 37,
     "metadata": {},
     "output_type": "execute_result"
    }
   ],
   "source": [
    "model.intercept_"
   ]
  },
  {
   "cell_type": "code",
   "execution_count": 38,
   "metadata": {},
   "outputs": [
    {
     "data": {
      "text/plain": [
       "array([313., 381., 132., ..., 580., 206., 742.])"
      ]
     },
     "execution_count": 38,
     "metadata": {},
     "output_type": "execute_result"
    }
   ],
   "source": [
    "y_predicted = model.predict(x_train_std)\n",
    "y_predicted"
   ]
  },
  {
   "cell_type": "markdown",
   "metadata": {},
   "source": [
    "### KFold for Linear Regression"
   ]
  },
  {
   "cell_type": "code",
   "execution_count": 39,
   "metadata": {
    "scrolled": true
   },
   "outputs": [
    {
     "name": "stdout",
     "output_type": "stream",
     "text": [
      "Accuracy: 1.0 0.0\n"
     ]
    }
   ],
   "source": [
    "kfold = KFold(n_splits=10, random_state=7)\n",
    "results = cross_val_score(LinearRegression(),x_train_std,y_train,cv=kfold)\n",
    "print(\"Accuracy:\",results.mean(),results.std())"
   ]
  },
  {
   "cell_type": "markdown",
   "metadata": {},
   "source": [
    "### -------------------------------------------------------------------------------------------------------------------------------------------------------------------"
   ]
  }
 ],
 "metadata": {
  "kernelspec": {
   "display_name": "Python 3",
   "language": "python",
   "name": "python3"
  },
  "language_info": {
   "codemirror_mode": {
    "name": "ipython",
    "version": 3
   },
   "file_extension": ".py",
   "mimetype": "text/x-python",
   "name": "python",
   "nbconvert_exporter": "python",
   "pygments_lexer": "ipython3",
   "version": "3.7.4"
  }
 },
 "nbformat": 4,
 "nbformat_minor": 2
}
